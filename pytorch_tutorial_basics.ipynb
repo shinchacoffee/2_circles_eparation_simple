{
  "nbformat": 4,
  "nbformat_minor": 0,
  "metadata": {
    "colab": {
      "name": "pytorch_tutorial_basics.ipynb",
      "provenance": [],
      "collapsed_sections": [],
      "authorship_tag": "ABX9TyMi3Xlhs6m47nP1NOezU+HW",
      "include_colab_link": true
    },
    "kernelspec": {
      "name": "python3",
      "display_name": "Python 3"
    },
    "language_info": {
      "name": "python"
    },
    "accelerator": "GPU"
  },
  "cells": [
    {
      "cell_type": "markdown",
      "metadata": {
        "id": "view-in-github",
        "colab_type": "text"
      },
      "source": [
        "<a href=\"https://colab.research.google.com/github/shinchacoffee/2_circles_eparation_simple/blob/main/pytorch_tutorial_basics.ipynb\" target=\"_parent\"><img src=\"https://colab.research.google.com/assets/colab-badge.svg\" alt=\"Open In Colab\"/></a>"
      ]
    },
    {
      "cell_type": "code",
      "execution_count": null,
      "metadata": {
        "id": "E2SAYxgZGidH",
        "colab": {
          "base_uri": "https://localhost:8080/"
        },
        "outputId": "a44baace-599a-428f-854a-ae4bc4c35d0a"
      },
      "outputs": [
        {
          "output_type": "execute_result",
          "data": {
            "text/plain": [
              "<torch._C.Generator at 0x7f5378174f90>"
            ]
          },
          "metadata": {},
          "execution_count": 1
        }
      ],
      "source": [
        "import torch\n",
        "from torch import nn\n",
        "from torch.utils.data import DataLoader\n",
        "from torchvision import datasets\n",
        "from torchvision.transforms import ToTensor\n",
        "random_seed = 1\n",
        "torch.manual_seed(random_seed)  "
      ]
    },
    {
      "cell_type": "code",
      "source": [
        "training_data = datasets.FashionMNIST(root='data', \n",
        "                                      train=True, \n",
        "                                      download=True, \n",
        "                                      transform=ToTensor()\n",
        "                                      )\n",
        "\n",
        "test_data = datasets.FashionMNIST(root='data',\n",
        "                                  train=False,\n",
        "                                  download=True,\n",
        "                                  transform=ToTensor()\n",
        "                                  )"
      ],
      "metadata": {
        "id": "V1qHLEeOYmkP"
      },
      "execution_count": null,
      "outputs": []
    },
    {
      "cell_type": "code",
      "source": [
        "batch_size = 32\n",
        "\n",
        "train_data_loader = DataLoader(training_data, batch_size=batch_size)\n",
        "test_data_loader = DataLoader(test_data, batch_size=batch_size)\n",
        "\n",
        "for X, y in test_data_loader:\n",
        "  print(f\"Shape of features (X) [N, C, H, W]: {X.shape}\")\n",
        "  print(f\"Shape of labels (y): {y.shape} {y.dtype}\")\n",
        "  #print(\"Shape of labels (y): {} {}\".format(y.shape, y.dtype))\n",
        "  #print(\"Shape of labels (y):\",y.shape,y.dtype)\n",
        "  break\n"
      ],
      "metadata": {
        "colab": {
          "base_uri": "https://localhost:8080/"
        },
        "id": "30EovFTJZ5Nh",
        "outputId": "cc1617e7-3f99-46c9-95d4-d9addabba175"
      },
      "execution_count": null,
      "outputs": [
        {
          "output_type": "stream",
          "name": "stdout",
          "text": [
            "Shape of features (X) [N, C, H, W]: torch.Size([32, 1, 28, 28])\n",
            "Shape of labels (y): torch.Size([32]) torch.int64\n"
          ]
        }
      ]
    },
    {
      "cell_type": "code",
      "source": [
        "device = \"cuda\" if torch.cuda.is_available() else \"cpu\"\n",
        "print(f\"using {device} device\")"
      ],
      "metadata": {
        "colab": {
          "base_uri": "https://localhost:8080/"
        },
        "id": "S_d9aZw8bF8T",
        "outputId": "0ba86a5e-c0ca-4054-dce3-691b1559a900"
      },
      "execution_count": null,
      "outputs": [
        {
          "output_type": "stream",
          "name": "stdout",
          "text": [
            "using cuda device\n"
          ]
        }
      ]
    },
    {
      "cell_type": "code",
      "source": [
        "from random import shuffle\n",
        "a = [1,2,3]\n",
        "a = shuffle(a)\n",
        "print(a)"
      ],
      "metadata": {
        "colab": {
          "base_uri": "https://localhost:8080/"
        },
        "id": "HWNA_yj1u9op",
        "outputId": "843ba49e-12b3-49ca-8572-33f0e08d4243"
      },
      "execution_count": null,
      "outputs": [
        {
          "output_type": "stream",
          "name": "stdout",
          "text": [
            "None\n"
          ]
        }
      ]
    },
    {
      "cell_type": "code",
      "source": [
        "class NeuralNetwork(nn.Module):\n",
        "  def __init__(self):\n",
        "    super(NeuralNetwork, self).__init__()\n",
        "    self.flatten = nn.Flatten()\n",
        "    self.linear_relu_stack = nn.Sequential(\n",
        "        nn.Linear(28*28, 512),\n",
        "        nn.ReLU(512),\n",
        "        nn.Linear(512,512),\n",
        "        nn.ReLU(512),\n",
        "        nn.Linear(512,10),\n",
        "    )\n",
        "\n",
        "  def forward(self, x):\n",
        "    x = self.flatten(x)\n",
        "    logits = self.linear_relu_stack(x)\n",
        "    return logits\n",
        "\n",
        "model = NeuralNetwork().to(device)\n",
        "print(model)"
      ],
      "metadata": {
        "colab": {
          "base_uri": "https://localhost:8080/"
        },
        "id": "FpcwLLx7bmaX",
        "outputId": "9159c3a3-0453-4407-b38b-c51397898616"
      },
      "execution_count": null,
      "outputs": [
        {
          "output_type": "stream",
          "name": "stdout",
          "text": [
            "NeuralNetwork(\n",
            "  (flatten): Flatten(start_dim=1, end_dim=-1)\n",
            "  (linear_relu_stack): Sequential(\n",
            "    (0): Linear(in_features=784, out_features=512, bias=True)\n",
            "    (1): ReLU(inplace=True)\n",
            "    (2): Linear(in_features=512, out_features=512, bias=True)\n",
            "    (3): ReLU(inplace=True)\n",
            "    (4): Linear(in_features=512, out_features=10, bias=True)\n",
            "  )\n",
            ")\n"
          ]
        }
      ]
    },
    {
      "cell_type": "code",
      "source": [
        "loss_fn = nn.CrossEntropyLoss()\n",
        "optimizer = torch.optim.SGD(model.parameters(), lr=1e-3)"
      ],
      "metadata": {
        "id": "BKokHA2XdxMX"
      },
      "execution_count": null,
      "outputs": []
    },
    {
      "cell_type": "code",
      "source": [
        "for m in model.parameters():\n",
        "  print(m.grad)\n",
        "  break"
      ],
      "metadata": {
        "colab": {
          "base_uri": "https://localhost:8080/"
        },
        "id": "8M8jws418j0H",
        "outputId": "7cceda8f-acf7-4cda-805e-6733118a565f"
      },
      "execution_count": null,
      "outputs": [
        {
          "output_type": "stream",
          "name": "stdout",
          "text": [
            "None\n"
          ]
        }
      ]
    },
    {
      "cell_type": "code",
      "source": [
        "def train(dataloader, model, lossfn, optimizer, gradaccu=1):\n",
        "  size = len(dataloader.dataset)\n",
        "  model.train()\n",
        "  optimizer.zero_grad()\n",
        "  for batch, (X, y) in enumerate(dataloader):\n",
        "    X, y = X.to(device), y.to(device)\n",
        "    \n",
        "    #if batch % gradaccu == 0:\n",
        "      #optimizer.zero_grad()\n",
        "      #print(f\"zerujem for batch: {batch}\")\n",
        "    \n",
        "    pred = model(X)\n",
        "    loss = lossfn(pred, y) / gradaccu\n",
        "    #for m in model.parameters():\n",
        "    #  print(m.shape, m.grad)\n",
        "    #  break\n",
        "    loss.backward()\n",
        "      #for m in model.parameters():\n",
        "      #  print(m.shape, m.grad[11,11])\n",
        "      #  break\n",
        "    #pred1 = model(X)\n",
        "    #loss1 = lossfn(pred1, y)\n",
        "    #loss1.backward()\n",
        "    #for m in model.parameters():\n",
        "    #  print(m.shape, m.grad[11,11])\n",
        "    #  break\n",
        "    #print(model.linear_relu_stack[2].weight[0,0].grad)\n",
        "\n",
        "    if batch % gradaccu == (gradaccu-1):\n",
        "      optimizer.step()\n",
        "      optimizer.zero_grad()\n",
        "    else:\n",
        "      if (batch+1) *  batch_size > size:\n",
        "        optimizer.step()\n",
        "        optimizer.zero_grad()\n",
        "      #print(f\"optimizer step for batch: {batch}\")\n",
        "\n",
        "      #if batch == 10:\n",
        "      #  break\n",
        "\n",
        "    if batch % 400 == 0:\n",
        "      loss, current = loss.item(), batch*len(X)\n",
        "      print(f\"loss: {loss:>7f} [{current:>5d}/{size:>5d}]\")"
      ],
      "metadata": {
        "id": "gjbl6o05hBO0"
      },
      "execution_count": null,
      "outputs": []
    },
    {
      "cell_type": "code",
      "source": [
        "print(model.linear_relu_stack[0].weight[0,0].grad)"
      ],
      "metadata": {
        "colab": {
          "base_uri": "https://localhost:8080/"
        },
        "id": "yweU0V_ez2Dp",
        "outputId": "12a8c59a-57ba-4e33-9612-091afa5564fa"
      },
      "execution_count": null,
      "outputs": [
        {
          "output_type": "stream",
          "name": "stdout",
          "text": [
            "None\n"
          ]
        },
        {
          "output_type": "stream",
          "name": "stderr",
          "text": [
            "/usr/local/lib/python3.7/dist-packages/torch/_tensor.py:1013: UserWarning: The .grad attribute of a Tensor that is not a leaf Tensor is being accessed. Its .grad attribute won't be populated during autograd.backward(). If you indeed want the .grad field to be populated for a non-leaf Tensor, use .retain_grad() on the non-leaf Tensor. If you access the non-leaf Tensor by mistake, make sure you access the leaf Tensor instead. See github.com/pytorch/pytorch/pull/30531 for more informations. (Triggered internally at  aten/src/ATen/core/TensorBody.h:417.)\n",
            "  return self._grad\n"
          ]
        }
      ]
    },
    {
      "cell_type": "code",
      "source": [
        "aa = torch.ones(3, requires_grad=True)\n",
        "bb = torch.ones(3, requires_grad=True)\n",
        "cc = aa + bb\n",
        "cc = cc.sum()"
      ],
      "metadata": {
        "id": "QwB7_XsM9qxt"
      },
      "execution_count": null,
      "outputs": []
    },
    {
      "cell_type": "code",
      "source": [
        "print(aa.grad)\n",
        "aa.grad = None\n",
        "cc.backward()\n",
        "print(aa.grad)"
      ],
      "metadata": {
        "colab": {
          "base_uri": "https://localhost:8080/"
        },
        "id": "lQUP2lFv9-Hh",
        "outputId": "6c524b87-cc7c-4780-b3d9-5b669d87d50c"
      },
      "execution_count": null,
      "outputs": [
        {
          "output_type": "stream",
          "name": "stdout",
          "text": [
            "None\n",
            "tensor([1., 1., 1.])\n"
          ]
        }
      ]
    },
    {
      "cell_type": "code",
      "source": [
        "def test(dataloader, model, lossfn):\n",
        "  size = len(dataloader.dataset)\n",
        "  num_batches = len(dataloader)\n",
        "  model.eval()\n",
        "  test_loss, correct = 0, 0\n",
        "  with torch.no_grad():\n",
        "    for X, y in dataloader:\n",
        "      X, y = X.to(device), y.to(device)\n",
        "      pred = model(X)\n",
        "      test_loss += lossfn(pred, y).item()\n",
        "      correct += (pred.argmax(1) == y).type(torch.float).sum().item()\n",
        "  test_loss /= num_batches\n",
        "  correct /= size\n",
        "  print(f\"test error: \\n accuracy: {(100*correct):>0.1f}%, avg loss: {test_loss:>8f} \\n\")"
      ],
      "metadata": {
        "id": "Stqysxeoi0Wb"
      },
      "execution_count": null,
      "outputs": []
    },
    {
      "cell_type": "code",
      "source": [
        "#model.load_state_dict(torch.load(\"model.pth\"))\n",
        "epochs = 4\n",
        "for t in range(epochs):\n",
        "  print(f\"epoch {t+1}\\n------------------------------\")\n",
        "  model.to(device)\n",
        "  train(train_data_loader, model, loss_fn, optimizer, gradaccu=1)\n",
        "  test(test_data_loader, model, loss_fn)\n",
        "print(\"Done! lul :x\")"
      ],
      "metadata": {
        "id": "ITpkpXSvkoXB",
        "colab": {
          "base_uri": "https://localhost:8080/"
        },
        "outputId": "45ec1034-70e3-4148-88f9-43c6f2efcac6"
      },
      "execution_count": null,
      "outputs": [
        {
          "output_type": "stream",
          "name": "stdout",
          "text": [
            "epoch 1\n",
            "------------------------------\n",
            "loss: 2.294393 [    0/60000]\n",
            "loss: 2.234691 [12800/60000]\n",
            "loss: 2.192353 [25600/60000]\n",
            "loss: 2.154234 [38400/60000]\n",
            "loss: 2.049330 [51200/60000]\n",
            "test error: \n",
            " accuracy: 54.0%, avg loss: 1.869573 \n",
            "\n",
            "epoch 2\n",
            "------------------------------\n",
            "loss: 1.850787 [    0/60000]\n",
            "loss: 1.692901 [12800/60000]\n",
            "loss: 1.564777 [25600/60000]\n",
            "loss: 1.531326 [38400/60000]\n",
            "loss: 1.364210 [51200/60000]\n",
            "test error: \n",
            " accuracy: 63.6%, avg loss: 1.236459 \n",
            "\n",
            "epoch 3\n",
            "------------------------------\n",
            "loss: 1.217542 [    0/60000]\n",
            "loss: 1.117362 [12800/60000]\n",
            "loss: 1.073575 [25600/60000]\n",
            "loss: 1.222296 [38400/60000]\n",
            "loss: 1.025919 [51200/60000]\n",
            "test error: \n",
            " accuracy: 66.4%, avg loss: 0.973263 \n",
            "\n",
            "epoch 4\n",
            "------------------------------\n",
            "loss: 0.909452 [    0/60000]\n",
            "loss: 0.866163 [12800/60000]\n",
            "loss: 0.869220 [25600/60000]\n",
            "loss: 1.112815 [38400/60000]\n",
            "loss: 0.877733 [51200/60000]\n",
            "test error: \n",
            " accuracy: 69.1%, avg loss: 0.852328 \n",
            "\n",
            "Done! lul :x\n"
          ]
        }
      ]
    },
    {
      "cell_type": "code",
      "source": [
        "torch.save(model.state_dict(), \"model.pth\")\n",
        "print(\"saved pytorch model state to model.pth\")"
      ],
      "metadata": {
        "colab": {
          "base_uri": "https://localhost:8080/"
        },
        "id": "d_JSFYJllG6P",
        "outputId": "1c836b95-869e-403e-9445-e24f3e5a999c"
      },
      "execution_count": null,
      "outputs": [
        {
          "output_type": "stream",
          "name": "stdout",
          "text": [
            "saved pytorch model state to model.pth\n"
          ]
        }
      ]
    },
    {
      "cell_type": "code",
      "source": [
        "classes = [\n",
        "    \"T-shirt/top\",\n",
        "    \"Trouser\",\n",
        "    \"Pullover\",\n",
        "    \"Dress\",\n",
        "    \"Coat\",\n",
        "    \"Sandal\",\n",
        "    \"Shirt\",\n",
        "    \"Sneaker\",\n",
        "    \"Bag\",\n",
        "    \"Ankle boot\",\n",
        "]\n",
        "\n",
        "model2 = NeuralNetwork()\n",
        "model2.load_state_dict(torch.load(\"model.pth\"))\n",
        "\n",
        "model.to(\"cpu\")\n",
        "model.eval()\n",
        "x, y = test_data[1][0], test_data[1][1]\n",
        "with torch.no_grad():\n",
        "    pred = model(x)\n",
        "    predicted, actual = classes[pred[0].argmax(0)], classes[y]\n",
        "    print(f'Predicted: \"{predicted}\", Actual: \"{actual}\"')"
      ],
      "metadata": {
        "colab": {
          "base_uri": "https://localhost:8080/"
        },
        "id": "fkjcZuDZl-Ix",
        "outputId": "2d97d2f5-673a-46f5-ca2a-d28cb80f0b95"
      },
      "execution_count": null,
      "outputs": [
        {
          "output_type": "stream",
          "name": "stdout",
          "text": [
            "Predicted: \"Pullover\", Actual: \"Pullover\"\n"
          ]
        }
      ]
    },
    {
      "cell_type": "code",
      "source": [
        ""
      ],
      "metadata": {
        "id": "T2uGFEaJmLiA"
      },
      "execution_count": null,
      "outputs": []
    },
    {
      "cell_type": "code",
      "source": [
        ""
      ],
      "metadata": {
        "id": "EJkcG-zg2Cui"
      },
      "execution_count": null,
      "outputs": []
    }
  ]
}